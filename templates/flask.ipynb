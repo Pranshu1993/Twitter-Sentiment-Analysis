{
 "cells": [
  {
   "cell_type": "code",
   "execution_count": 1,
   "metadata": {},
   "outputs": [
    {
     "name": "stdout",
     "output_type": "stream",
     "text": [
      " * Serving Flask app '__main__'\n",
      " * Debug mode: off\n"
     ]
    },
    {
     "name": "stderr",
     "output_type": "stream",
     "text": [
      "WARNING: This is a development server. Do not use it in a production deployment. Use a production WSGI server instead.\n",
      " * Running on http://127.0.0.1:5000\n",
      "Press CTRL+C to quit\n"
     ]
    }
   ],
   "source": [
    "from flask import Flask, request, render_template\n",
    "import numpy as np\n",
    "import tensorflow as tf\n",
    "from tensorflow.keras.preprocessing.text import Tokenizer\n",
    "from tensorflow.keras.preprocessing.sequence import pad_sequences\n",
    "\n",
    "# Load pre-trained sentiment analysis model\n",
    "model = tf.keras.models.load_model('E:/Git/twitter/Flaskr/model/sentiment_model.h5')\n",
    "tokenizer = Tokenizer(num_words=10000)\n",
    "\n",
    "# Define sentiment labels\n",
    "sentiment_labels = ['very sad',\"sad\" ,'neutral', 'happy',\"very happy\"]\n",
    "\n",
    "# Initialize Flask app\n",
    "app = Flask(__name__)\n",
    "\n",
    "# Define the route for the home page\n",
    "@app.route('/')\n",
    "def home():\n",
    "    return render_template('Flaskr/Templates/index.html')\n",
    "\n",
    "# Define the route for sentiment prediction\n",
    "# @app.route('/predict', methods=['POST'])\n",
    "# def predict():\n",
    "#     # Get the input text from the form\n",
    "#     input_text = request.form['text']\n",
    "    \n",
    "#     # Preprocess the input text\n",
    "#     sequences = tokenizer.texts_to_sequences([input_text])\n",
    "#     padded_sequences = pad_sequences(sequences, maxlen=100)\n",
    "\n",
    "#     # Use model to predict sentiment scores for the input\n",
    "#     score = model.predict(padded_sequences)[0]\n",
    "#     argmax_score = np.argmax(score)\n",
    "#     sentiment = sentiment_labels[argmax_score]\n",
    "    \n",
    "#     # Return the sentiment to the web page\n",
    "#     return render_template('E:/Git/twitter/Templates/index.html', sentiment=sentiment)\n",
    "\n",
    "if __name__ == '__main__':\n",
    "    app.run(debug=False)\n"
   ]
  },
  {
   "cell_type": "code",
   "execution_count": 26,
   "metadata": {},
   "outputs": [
    {
     "name": "stdout",
     "output_type": "stream",
     "text": [
      " * Serving Flask app '__main__'\n",
      " * Debug mode: off\n"
     ]
    },
    {
     "name": "stderr",
     "output_type": "stream",
     "text": [
      "WARNING: This is a development server. Do not use it in a production deployment. Use a production WSGI server instead.\n",
      " * Running on http://127.0.0.1:5000\n",
      "Press CTRL+C to quit\n",
      "[2023-03-14 18:42:37,107] ERROR in app: Exception on / [GET]\n",
      "Traceback (most recent call last):\n",
      "  File \"e:\\Git\\twitter\\.venv\\lib\\site-packages\\flask\\app.py\", line 2528, in wsgi_app\n",
      "    response = self.full_dispatch_request()\n",
      "  File \"e:\\Git\\twitter\\.venv\\lib\\site-packages\\flask\\app.py\", line 1825, in full_dispatch_request\n",
      "    rv = self.handle_user_exception(e)\n",
      "  File \"e:\\Git\\twitter\\.venv\\lib\\site-packages\\flask\\app.py\", line 1823, in full_dispatch_request\n",
      "    rv = self.dispatch_request()\n",
      "  File \"e:\\Git\\twitter\\.venv\\lib\\site-packages\\flask\\app.py\", line 1799, in dispatch_request\n",
      "    return self.ensure_sync(self.view_functions[rule.endpoint])(**view_args)\n",
      "  File \"C:\\Users\\akhil\\AppData\\Local\\Temp\\ipykernel_30844\\290637466.py\", line 20, in home\n",
      "    return render_template('E:/Git/twitter/Templates/index.html')\n",
      "  File \"e:\\Git\\twitter\\.venv\\lib\\site-packages\\flask\\templating.py\", line 146, in render_template\n",
      "    template = app.jinja_env.get_or_select_template(template_name_or_list)\n",
      "  File \"e:\\Git\\twitter\\.venv\\lib\\site-packages\\jinja2\\environment.py\", line 1081, in get_or_select_template\n",
      "    return self.get_template(template_name_or_list, parent, globals)\n",
      "  File \"e:\\Git\\twitter\\.venv\\lib\\site-packages\\jinja2\\environment.py\", line 1010, in get_template\n",
      "    return self._load_template(name, globals)\n",
      "  File \"e:\\Git\\twitter\\.venv\\lib\\site-packages\\jinja2\\environment.py\", line 969, in _load_template\n",
      "    template = self.loader.load(self, name, self.make_globals(globals))\n",
      "  File \"e:\\Git\\twitter\\.venv\\lib\\site-packages\\jinja2\\loaders.py\", line 126, in load\n",
      "    source, filename, uptodate = self.get_source(environment, name)\n",
      "  File \"e:\\Git\\twitter\\.venv\\lib\\site-packages\\flask\\templating.py\", line 62, in get_source\n",
      "    return self._get_source_fast(environment, template)\n",
      "  File \"e:\\Git\\twitter\\.venv\\lib\\site-packages\\flask\\templating.py\", line 98, in _get_source_fast\n",
      "    raise TemplateNotFound(template)\n",
      "jinja2.exceptions.TemplateNotFound: E:/Git/twitter/Templates/index.html\n",
      "127.0.0.1 - - [14/Mar/2023 18:42:37] \"GET / HTTP/1.1\" 500 -\n",
      "127.0.0.1 - - [14/Mar/2023 18:42:38] \"GET / HTTP/1.1\" 200 -\n",
      "127.0.0.1 - - [14/Mar/2023 18:42:39] \"GET / HTTP/1.1\" 200 -\n",
      "127.0.0.1 - - [14/Mar/2023 18:42:39] \"GET / HTTP/1.1\" 200 -\n",
      "127.0.0.1 - - [14/Mar/2023 18:42:39] \"GET / HTTP/1.1\" 200 -\n"
     ]
    }
   ],
   "source": [
    "from flask import Flask\n",
    "\n",
    "app = Flask(__name__)\n",
    "\n",
    "@app.route('/')\n",
    "def hello_world():\n",
    "    return 'Hello, World!'\n",
    "\n",
    "if __name__ == '__main__':\n",
    "    app.run()"
   ]
  }
 ],
 "metadata": {
  "kernelspec": {
   "display_name": ".venv",
   "language": "python",
   "name": "python3"
  },
  "language_info": {
   "codemirror_mode": {
    "name": "ipython",
    "version": 3
   },
   "file_extension": ".py",
   "mimetype": "text/x-python",
   "name": "python",
   "nbconvert_exporter": "python",
   "pygments_lexer": "ipython3",
   "version": "3.10.6"
  },
  "orig_nbformat": 4
 },
 "nbformat": 4,
 "nbformat_minor": 2
}
